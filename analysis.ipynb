{
 "cells": [
  {
   "cell_type": "code",
   "execution_count": null,
   "metadata": {
    "scrolled": true
   },
   "outputs": [],
   "source": [
    "import re\n",
    "from os import listdir, getcwd\n",
    "from collections import defaultdict\n",
    "from itertools import product\n",
    "\n",
    "import pandas as pd\n",
    "import numpy as np\n",
    "\n",
    "from figmenta import output_notebook, autovis, show\n",
    "from bokeh.layouts import gridplot\n",
    "\n",
    "pd.options.display.max_rows = 1000\n",
    "pd.options.display.max_columns = 1000\n",
    "\n",
    "output_notebook()"
   ]
  },
  {
   "cell_type": "code",
   "execution_count": null,
   "metadata": {
    "collapsed": true
   },
   "outputs": [],
   "source": [
    "class Color:\n",
    "    def __init__(self, r, g, b, name=None):\n",
    "        self.r = r\n",
    "        self.g = g\n",
    "        self.b = b\n",
    "        self.name = name\n",
    "    def __hash__(self):\n",
    "        return hash(str(self))\n",
    "    def __str__(self):\n",
    "        return '#{:02x}{:02x}{:02x}'.format(self.r, self.g, self.b).upper()\n",
    "    def __repr__(self):\n",
    "        if self.name is not None:\n",
    "            return 'Color({}, {}, {}, name={})'.format(self.r, self.g, self.b, repr(self.name))\n",
    "        else:\n",
    "            return 'Color({}, {}, {})'.format(self.r, self.g, self.b)\n",
    "    def __eq__(self, other):\n",
    "        return str(self) == str(other)\n",
    "    def __sub__(self, other):\n",
    "        return abs(self.r - other.r) + abs(self.g - other.g) + abs(self.b - other.b)\n",
    "    @staticmethod\n",
    "    def from_hex(hexcode, name=None):\n",
    "        if len(hexcode) == 7 and hexcode[0] == '#':\n",
    "            hexcode = hexcode[1:]\n",
    "        return Color(*(int(hexcode[i:i+2], 16) for i in range(0, 5, 2)), name=name)\n",
    "\n",
    "def string_pivot(df, row_params, col_params, val_params, reset_index=True):\n",
    "    # copy and extract the relevant columns\n",
    "    answer_df = df.copy()[row_params + col_params + val_params]\n",
    "    # reshaping magic - create an index using all the relelvant parameters\n",
    "    # then unstack it to turn the column parameters in to columns\n",
    "    answer_df = answer_df.set_index(row_params + col_params).unstack(level=col_params)\n",
    "    if reset_index:\n",
    "        # compute the new column names\n",
    "        uniques = set(tuple(values) for values in df[col_params].copy().drop_duplicates().values.tolist())\n",
    "        columns = []\n",
    "        for column in product(*answer_df.columns.levels):\n",
    "            if column[1:] in uniques:\n",
    "                columns.append([str(col) for col in column])\n",
    "        # rename the columns\n",
    "        answer_df.columns = ['_'.join([*values[1:], values[0]]) for values in columns]\n",
    "        # flatten the index\n",
    "        answer_df = answer_df.reset_index()\n",
    "    return answer_df\n",
    "\n",
    "def add_correctness_column(df, row_params, col_params, val_params, ground_truth_index, column_name):\n",
    "    # copy and extract the relevant columns\n",
    "    answer_df = df.copy()[row_params + col_params + val_params]\n",
    "    # reshaping magic - create an index using all the relelvant parameters\n",
    "    # then unstack it to turn the column parameters in to columns\n",
    "    answer_df = answer_df.set_index(row_params + col_params).unstack(level=col_params)\n",
    "    column_values = list(index.tolist() for index in answer_df.columns.levels)\n",
    "    # create new columns by comparing answers to brute-force\n",
    "    answer_indices = list(zip(*answer_df.columns.labels))\n",
    "    for indices in answer_indices:\n",
    "        answer_index = tuple([labels[i] for labels, i in zip(column_values, indices)])\n",
    "        correct_index = tuple([column_name, *answer_index[1:]])\n",
    "        answer_df[correct_index] = (answer_df[tuple([val_params[0]] + ground_truth_index)] == answer_df[answer_index])\n",
    "    correctness = answer_df.stack(level=col_params)[column_name]\n",
    "    # put the correctness into a new column\n",
    "    new_df = df.copy().set_index(correctness.index.names)\n",
    "    new_df[column_name] = correctness.astype(int)\n",
    "    new_df = new_df.reset_index()\n",
    "    return new_df"
   ]
  },
  {
   "cell_type": "markdown",
   "metadata": {},
   "source": [
    "## Static Pilot"
   ]
  },
  {
   "cell_type": "markdown",
   "metadata": {},
   "source": [
    "A brief preview of the raw data:"
   ]
  },
  {
   "cell_type": "code",
   "execution_count": null,
   "metadata": {
    "scrolled": false
   },
   "outputs": [],
   "source": [
    "static_pilot_raw_df = pd.read_csv('static-pilot-latest.csv')\n",
    "static_pilot_raw_df['algorithm'] = static_pilot_raw_df['algorithm'].apply(lambda s: s.replace('-', '_'))\n",
    "static_pilot_raw_df = add_correctness_column(\n",
    "    static_pilot_raw_df,\n",
    "    row_params=['num_episodes','num_labels','random_seed', 'target_color'],\n",
    "    col_params=['algorithm', 'num_neighbors', 'always_use_neighbors'],\n",
    "    val_params=['answer'],\n",
    "    ground_truth_index=['brute_force', 0, True],\n",
    "    column_name='correct',\n",
    ")\n",
    "static_pilot_raw_df = static_pilot_raw_df[static_pilot_raw_df['always_use_neighbors'] == True]\n",
    "static_pilot_raw_df.head()"
   ]
  },
  {
   "cell_type": "code",
   "execution_count": null,
   "metadata": {},
   "outputs": [],
   "source": [
    "correctness_df = static_pilot_raw_df.pivot_table(\n",
    "    index=['num_episodes', 'num_labels'],\n",
    "    columns=['algorithm', 'always_use_neighbors', 'num_neighbors'],\n",
    "    aggfunc=np.mean).correct\n",
    "correctness_df.columns = pd.MultiIndex.from_tuples(\n",
    "    [tuple(['correctness'] + list(vals)) for vals in correctness_df.columns.get_values()],\n",
    "    names=['field'] + correctness_df.columns.names)\n",
    "episodes_df = static_pilot_raw_df.pivot_table(\n",
    "    index=['num_episodes', 'num_labels'],\n",
    "    columns=['algorithm', 'always_use_neighbors', 'num_neighbors'],\n",
    "    aggfunc=np.mean).total_episodes\n",
    "episodes_df.columns = pd.MultiIndex.from_tuples(\n",
    "    [tuple(['episodes_searched'] + list(vals)) for vals in episodes_df.columns.get_values()],\n",
    "    names=['field'] + episodes_df.columns.names)\n",
    "plot_df = pd.concat([correctness_df, episodes_df], axis=1)\n",
    "plot_df"
   ]
  },
  {
   "cell_type": "code",
   "execution_count": null,
   "metadata": {
    "collapsed": true
   },
   "outputs": [],
   "source": [
    "plot_df = plot_df.stack(level=['algorithm', 'always_use_neighbors', 'num_neighbors']).reset_index()\n",
    "plot_df['episodes_percent'] = plot_df.apply(\n",
    "    (lambda row: row['episodes_searched'] / row['num_episodes']),\n",
    "    axis=1,\n",
    ")\n",
    "plot_df['algo'] = plot_df.apply(\n",
    "    (lambda row: {'brute_force':'BF', 'exact_heuristic':'EX', 'neighbor_heuristic':'NB'}[row['algorithm']]),\n",
    "     axis=1,\n",
    ")\n",
    "plot_df['algorithm_label'] = plot_df.apply(\n",
    "    (lambda row: '{}_{}'.format(row['algo'], row['num_neighbors'])),\n",
    "     axis=1,\n",
    ")"
   ]
  },
  {
   "cell_type": "code",
   "execution_count": null,
   "metadata": {},
   "outputs": [],
   "source": [
    "grid_axes = ['num_labels', 'num_episodes']\n",
    "uniques = set(tuple(values) for values in plot_df[grid_axes].copy().drop_duplicates().values.tolist())\n",
    "plots = []\n",
    "for row_i, row_var in enumerate(sorted(plot_df[grid_axes[1]].unique(), reverse=True)):\n",
    "    plot_row = []\n",
    "    for col_i, col_var in enumerate(sorted(plot_df[grid_axes[0]].unique())):\n",
    "        if (col_var, row_var) not in uniques:\n",
    "            continue\n",
    "        f = autovis(\n",
    "            plot_df[(plot_df[grid_axes[1]] == row_var) & (plot_df[grid_axes[0]] == col_var)],\n",
    "            xs=['episodes_percent', 'algorithm_label'], ys=['correctness'],\n",
    "            fig_args={\n",
    "                'width':300, 'height':300,\n",
    "                'x_range':[0, 1.1], 'x_axis_label':'% Episodes Searched (#Labels={})'.format(col_var),\n",
    "                'y_range':[0, 1.1], 'y_axis_label':'% Correct (#Episodes={})'.format(row_var),\n",
    "            },\n",
    "        )\n",
    "        if row_i == 2 and col_i == 0:\n",
    "            f.title.text = 'Static Experiments Summary'\n",
    "        if row_i > 0:\n",
    "            f.xaxis.visible = False\n",
    "        if col_i > 0:\n",
    "            f.yaxis.visible = False\n",
    "        f.legend.visible = (row_i == 0 and col_i == 2)\n",
    "        f.legend.location = 'bottom_right'\n",
    "        plot_row.append(f)\n",
    "    plots.append(plot_row)\n",
    "show(gridplot(list(reversed(plots))))"
   ]
  },
  {
   "cell_type": "markdown",
   "metadata": {},
   "source": [
    "Let's take a look how how often the answers of different algorithms correspond. For a static labeling, we wouldn't expect too many targets to lie near a border."
   ]
  },
  {
   "cell_type": "markdown",
   "metadata": {},
   "source": [
    "FIXME how do the different errors distribute between parameters?"
   ]
  },
  {
   "cell_type": "markdown",
   "metadata": {},
   "source": [
    "## Dynamic Pilot"
   ]
  },
  {
   "cell_type": "code",
   "execution_count": null,
   "metadata": {},
   "outputs": [],
   "source": [
    "def fix_answer_row(row, neighbor_col):\n",
    "    target = Color.from_hex(row[('target_color', '', '', '')])\n",
    "    exact_answer = Color.from_hex(row[('answer', 'exact_heuristic', '0', 'True')])\n",
    "    neighbor_answer = Color.from_hex(row[neighbor_col])\n",
    "    if target - exact_answer < target - neighbor_answer:\n",
    "        return str(exact_answer)\n",
    "    else:\n",
    "        return row[neighbor_col]\n",
    "\n",
    "def fix_neighbor_answers(df):\n",
    "    copy_df = df.copy()\n",
    "    copy_df['num_neighbors'] = copy_df['num_neighbors'].astype(str)\n",
    "    copy_df['always_use_neighbors'] = copy_df['always_use_neighbors'].astype(str)\n",
    "    fix_df = string_pivot(\n",
    "        copy_df,\n",
    "        row_params=['num_episodes','num_labels','random_seed', 'target_color'],\n",
    "        col_params=['algorithm', 'num_neighbors', 'always_use_neighbors'],\n",
    "        val_params=['answer'],\n",
    "        reset_index=False,\n",
    "    )\n",
    "    target_color_df = copy_df.copy()\n",
    "    target_color_df['temp_target_color'] = target_color_df.target_color\n",
    "    target_color_df = string_pivot(\n",
    "        target_color_df,\n",
    "        row_params=['num_episodes','num_labels','random_seed', 'target_color'],\n",
    "        col_params=['algorithm', 'num_neighbors', 'always_use_neighbors'],\n",
    "        val_params=['temp_target_color'],\n",
    "        reset_index=False,\n",
    "    )\n",
    "    fix_df['target_color'] = target_color_df[target_color_df.columns.get_values()[0]]\n",
    "    for column in fix_df.columns.get_values():\n",
    "        if 'neighbor_heuristic' in column and 'True' in column:\n",
    "            column = tuple(column)\n",
    "            fix_df[column] = fix_df.apply((lambda row: fix_answer_row(row, column)), axis=1)\n",
    "    del fix_df[('target_color', '', '', '')]\n",
    "    fix_df = fix_df.stack(level=['algorithm', 'num_neighbors', 'always_use_neighbors'])\n",
    "    new_df = df.copy()\n",
    "    new_df['num_neighbors'] = new_df['num_neighbors'].astype(str)\n",
    "    new_df['always_use_neighbors'] = new_df['always_use_neighbors'].astype(str)\n",
    "    new_df = new_df.set_index(['num_episodes','num_labels','random_seed', 'target_color', 'algorithm', 'num_neighbors', 'always_use_neighbors'])\n",
    "    new_df['answer'] = fix_df['answer']\n",
    "    new_df = new_df.reset_index()\n",
    "    new_df['num_neighbors'] = new_df['num_neighbors'].astype(int)\n",
    "    new_df['always_use_neighbors'] = new_df['always_use_neighbors'].apply(lambda val: val == 'True')\n",
    "    new_df = new_df[df.columns]\n",
    "    return new_df\n",
    "\n",
    "dynamic_pilot_raw_df = pd.read_csv('dynamic-pilot-latest.csv')\n",
    "dynamic_pilot_raw_df['algorithm'] = dynamic_pilot_raw_df['algorithm'].apply(lambda s: s.replace('-', '_'))\n",
    "# fixme neighbor answers to use exact answer if that is better\n",
    "dynamic_pilot_raw_df = fix_neighbor_answers(dynamic_pilot_raw_df)\n",
    "dynamic_pilot_raw_df = add_correctness_column(\n",
    "    dynamic_pilot_raw_df,\n",
    "    row_params=['num_episodes','num_labels', 'random_seed', 'target_color'],\n",
    "    col_params=['algorithm', 'num_neighbors', 'always_use_neighbors'],\n",
    "    val_params=['answer'],\n",
    "    ground_truth_index=['brute_force', 0, True],\n",
    "    column_name='correct',\n",
    ")\n",
    "dynamic_pilot_raw_df = dynamic_pilot_raw_df[dynamic_pilot_raw_df['always_use_neighbors'] == True]\n",
    "dynamic_pilot_raw_df.head()"
   ]
  },
  {
   "cell_type": "code",
   "execution_count": null,
   "metadata": {
    "scrolled": false
   },
   "outputs": [],
   "source": [
    "correctness_df = dynamic_pilot_raw_df.pivot_table(\n",
    "    index=['num_episodes', 'num_labels'],\n",
    "    columns=['algorithm', 'always_use_neighbors', 'num_neighbors'],\n",
    "    aggfunc=np.mean).correct\n",
    "correctness_df.columns = pd.MultiIndex.from_tuples(\n",
    "    [tuple(['correctness'] + list(vals)) for vals in correctness_df.columns.get_values()],\n",
    "    names=['field'] + correctness_df.columns.names)\n",
    "episodes_df = dynamic_pilot_raw_df.pivot_table(\n",
    "    index=['num_episodes', 'num_labels'],\n",
    "    columns=['algorithm', 'always_use_neighbors', 'num_neighbors'],\n",
    "    aggfunc=np.mean).total_episodes\n",
    "episodes_df.columns = pd.MultiIndex.from_tuples(\n",
    "    [tuple(['episodes_searched'] + list(vals)) for vals in episodes_df.columns.get_values()],\n",
    "    names=['field'] + episodes_df.columns.names)\n",
    "plot_df = pd.concat([correctness_df, episodes_df], axis=1)\n",
    "plot_df"
   ]
  },
  {
   "cell_type": "code",
   "execution_count": null,
   "metadata": {
    "collapsed": true
   },
   "outputs": [],
   "source": [
    "plot_df = plot_df.stack(level=['algorithm', 'always_use_neighbors', 'num_neighbors']).reset_index()\n",
    "plot_df['episodes_percent'] = plot_df.apply(\n",
    "    (lambda row: row['episodes_searched'] / row['num_episodes']),\n",
    "    axis=1,\n",
    ")\n",
    "plot_df['algo'] = plot_df.apply(\n",
    "    (lambda row: {'brute_force':'BF', 'exact_heuristic':'EX', 'neighbor_heuristic':'NB'}[row['algorithm']]),\n",
    "     axis=1,\n",
    ")\n",
    "plot_df['algorithm_label'] = plot_df.apply(\n",
    "    (lambda row: '{}_{}'.format(row['algo'], row['num_neighbors'])),\n",
    "     axis=1,\n",
    ")"
   ]
  },
  {
   "cell_type": "code",
   "execution_count": null,
   "metadata": {
    "scrolled": false
   },
   "outputs": [],
   "source": [
    "grid_axes = ['num_labels', 'num_episodes']\n",
    "uniques = set(tuple(values) for values in plot_df[grid_axes].copy().drop_duplicates().values.tolist())\n",
    "plots = []\n",
    "for row_i, row_var in enumerate(sorted(plot_df[grid_axes[1]].unique(), reverse=True)):\n",
    "    plot_row = []\n",
    "    for col_i, col_var in enumerate(sorted(plot_df[grid_axes[0]].unique())):\n",
    "        if (col_var, row_var) not in uniques:\n",
    "            continue\n",
    "        f = autovis(\n",
    "            plot_df[(plot_df[grid_axes[1]] == row_var) & (plot_df[grid_axes[0]] == col_var)],\n",
    "            xs=['episodes_percent', 'algorithm_label'], ys=['correctness'],\n",
    "            fig_args={\n",
    "                'width':300, 'height':300,\n",
    "                'x_range':[0, 1.1], 'x_axis_label':'% Episodes Searched (#Labels={})'.format(col_var),\n",
    "                'y_range':[0, 1.1], 'y_axis_label':'% Correct (#Episodes={})'.format(row_var),\n",
    "            },\n",
    "        )\n",
    "        if row_i == 2 and col_i == 0:\n",
    "            f.title.text = 'Dynamic Experiments Summary'\n",
    "        if row_i > 0:\n",
    "            f.xaxis.visible = False\n",
    "        if col_i > 0:\n",
    "            f.yaxis.visible = False\n",
    "        f.legend.visible = (row_i == 0 and col_i == 2)\n",
    "        f.legend.location = 'bottom_right'\n",
    "        plot_row.append(f)\n",
    "    plots.append(plot_row)\n",
    "show(gridplot(list(reversed(plots))))"
   ]
  },
  {
   "cell_type": "markdown",
   "metadata": {},
   "source": [
    "\n",
    "## Dynamic Neighbors Analysis"
   ]
  },
  {
   "cell_type": "code",
   "execution_count": null,
   "metadata": {},
   "outputs": [],
   "source": [
    "dynamic_neighbors_raw_df = pd.read_csv('dynamic-neighbors-latest.csv')\n",
    "dynamic_neighbors_raw_df['algorithm'] = dynamic_neighbors_raw_df['algorithm'].apply(lambda s: s.replace('-', '_'))\n",
    "dynamic_neighbors_raw_df = add_correctness_column(\n",
    "    dynamic_neighbors_raw_df,\n",
    "    row_params=['num_episodes','num_labels', 'random_seed', 'target_color'],\n",
    "    col_params=['algorithm', 'num_neighbors', 'always_use_neighbors'],\n",
    "    val_params=['answer'],\n",
    "    ground_truth_index=['brute_force', 0, True],\n",
    "    column_name='correct'\n",
    ")\n",
    "dynamic_neighbors_raw_df.head()"
   ]
  },
  {
   "cell_type": "code",
   "execution_count": null,
   "metadata": {
    "scrolled": false
   },
   "outputs": [],
   "source": [
    "display(dynamic_neighbors_raw_df.pivot_table(\n",
    "    index=['num_episodes', 'num_labels'],\n",
    "    columns=['algorithm', 'always_use_neighbors', 'num_neighbors'],\n",
    "    aggfunc=np.mean).correct)\n",
    "display(dynamic_neighbors_raw_df.pivot_table(\n",
    "    index=['num_episodes', 'num_labels'],\n",
    "    columns=['algorithm', 'always_use_neighbors', 'num_neighbors'],\n",
    "    aggfunc=np.mean).total_episodes)"
   ]
  }
 ],
 "metadata": {
  "kernelspec": {
   "display_name": "Python 3",
   "language": "python",
   "name": "python3"
  },
  "language_info": {
   "codemirror_mode": {
    "name": "ipython",
    "version": 3
   },
   "file_extension": ".py",
   "mimetype": "text/x-python",
   "name": "python",
   "nbconvert_exporter": "python",
   "pygments_lexer": "ipython3",
   "version": "3.6.2"
  }
 },
 "nbformat": 4,
 "nbformat_minor": 2
}
