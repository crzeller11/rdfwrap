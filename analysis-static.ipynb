{
 "cells": [
  {
   "cell_type": "code",
   "execution_count": null,
   "metadata": {
    "collapsed": true,
    "scrolled": true
   },
   "outputs": [],
   "source": [
    "import re\n",
    "from os import listdir, getcwd\n",
    "from collections import defaultdict\n",
    "from itertools import product\n",
    "\n",
    "import pandas as pd\n",
    "import numpy as np\n",
    "\n",
    "from figmenta import output_notebook, autovis, show\n",
    "\n",
    "pd.options.display.max_rows = 1000\n",
    "\n",
    "output_notebook()"
   ]
  },
  {
   "cell_type": "markdown",
   "metadata": {},
   "source": [
    "## Static Experiment PIlot"
   ]
  },
  {
   "cell_type": "markdown",
   "metadata": {},
   "source": [
    "A brief preview of the raw data:"
   ]
  },
  {
   "cell_type": "code",
   "execution_count": null,
   "metadata": {
    "collapsed": true,
    "scrolled": false
   },
   "outputs": [],
   "source": [
    "raw_df = pd.read_csv('static-pilot-latest.csv')\n",
    "raw_df.head()"
   ]
  },
  {
   "cell_type": "markdown",
   "metadata": {},
   "source": [
    "Let's take a look how how often the answers of different algorithms correspond. For a static labeling, we wouldn't expect too many targets to lie near a border."
   ]
  },
  {
   "cell_type": "code",
   "execution_count": null,
   "metadata": {
    "collapsed": true,
    "scrolled": false
   },
   "outputs": [],
   "source": [
    "# define the parameters we care about\n",
    "row_params = ['num_episodes','num_labels','random_seed', 'target_color']\n",
    "col_params = ['algorithm']\n",
    "val_params = ['answer']\n",
    "\n",
    "# copy and extract the relevant columns\n",
    "answer_df = raw_df.copy()[row_params + col_params + val_params]\n",
    "\n",
    "# reshaping magic\n",
    "# create an index using all the relelvant parameters\n",
    "# then unstack it to turn the column parameters in to columns\n",
    "answer_df = answer_df.set_index(row_params + col_params).unstack(level=col_params)\n",
    "\n",
    "# flatten and rename the column indices\n",
    "answer_df.columns = ['_'.join([col, fn]) for fn, col in product(*answer_df.columns.levels)]\n",
    "answer_df = answer_df.reset_index()\n",
    "\n",
    "# add a column to compare the answers from the two algorithms\n",
    "answer_df['same'] = (answer_df['brute-force_answer'] == answer_df['exact-heuristic_answer'])\n",
    "\n",
    "# count the differnt values in that column\n",
    "answer_df['same'].value_counts()"
   ]
  },
  {
   "cell_type": "markdown",
   "metadata": {},
   "source": [
    "Next, a look at the episodes searched and the runtime."
   ]
  },
  {
   "cell_type": "code",
   "execution_count": null,
   "metadata": {
    "collapsed": true
   },
   "outputs": [],
   "source": [
    "# define the parameters we care about\n",
    "row_params = ['num_episodes','num_labels']\n",
    "val_params = ['total_episodes', 'runtime']\n",
    "aggfuncs = [np.mean, np.std]\n",
    "\n",
    "# copy and extract the relevant columns\n",
    "raw_speed_df = raw_df.copy()[row_params + col_params + val_params]\n",
    "\n",
    "speed_df = raw_speed_df.pivot_table(\n",
    "        index=row_params + ['algorithm'],\n",
    "        values=val_params,\n",
    "        aggfunc=aggfuncs,\n",
    "    )\n",
    "\n",
    "# rename and reorder the column indices\n",
    "col_levels = speed_df.columns.levels\n",
    "speed_df.columns = ['_'.join([col, fn]) for fn, col in product(*speed_df.columns.levels)]\n",
    "col_order = ['_'.join([col, fn]) for col, fn in product(*reversed(col_levels))]\n",
    "speed_df = speed_df[col_order]\n",
    "speed_df = speed_df.unstack('algorithm')\n",
    "\n",
    "speed_df"
   ]
  },
  {
   "cell_type": "code",
   "execution_count": null,
   "metadata": {
    "collapsed": true
   },
   "outputs": [],
   "source": [
    "plot_df = speed_df.loc[1000].stack().reset_index()\n",
    "fig = autovis(df=plot_df, xs=['algorithm', 'num_labels'], ys=['runtime_mean'])\n",
    "show(fig)"
   ]
  }
 ],
 "metadata": {
  "kernelspec": {
   "display_name": "Python 3",
   "language": "python",
   "name": "python3"
  },
  "language_info": {
   "codemirror_mode": {
    "name": "ipython",
    "version": 3
   },
   "file_extension": ".py",
   "mimetype": "text/x-python",
   "name": "python",
   "nbconvert_exporter": "python",
   "pygments_lexer": "ipython3",
   "version": "3.6.1"
  }
 },
 "nbformat": 4,
 "nbformat_minor": 2
}
